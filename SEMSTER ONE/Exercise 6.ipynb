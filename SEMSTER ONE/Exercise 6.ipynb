{
 "cells": [
  {
   "cell_type": "code",
   "execution_count": 1,
   "metadata": {},
   "outputs": [],
   "source": [
    "#mean List 1\n",
    "import numpy as np\n",
    "list_1_Age: [20,27,21,23,19,24,21,19,19,22,25,27,21,19,21,21,20,23,20,20,27,23,21,19,20,22,21,23,20,30]\n",
    "Age_array = [20,27,21,23,19,24,21,19,19,22,25,27,21,19,21,21,20,23,20,20,27,23,21,19,20,22,21,23,20,30]\n",
    "Age_array = np.mean(Age_array)\n"
   ]
  },
  {
   "cell_type": "code",
   "execution_count": 15,
   "metadata": {},
   "outputs": [],
   "source": [
    "#Stand Variation\n",
    "list_1_Age= [20,27,21,23,19,24,21,19,19,22,25,27,21,19,21,21,20,23,20,20,27,23,21,19,20,22,21,23,20,30]\n",
    "list_1_Age= [20,27,21,23,19,24,21,19,19,22,25,27,21,19,21,21,20,23,20,20,27,23,21,19,20,22,21,23,20,30]\n",
    "list_1_Age = np.std(list_1_Age)"
   ]
  },
  {
   "cell_type": "code",
   "execution_count": 14,
   "metadata": {},
   "outputs": [],
   "source": [
    "#Variance\n",
    "import numpy as np\n",
    "list_1_Age: [20,27,21,23,19,24,21,19,19,22,25,27,21,19,21,21,20,23,20,20,27,23,21,19,20,22,21,23,20,30]\n",
    "list_1_Age = [20,27,21,23,19,24,21,19,19,22,25,27,21,19,21,21,20,23,20,20,27,23,21,19,20,22,21,23,20,30]\n",
    "list_1_Age = np.var(list_1_Age)"
   ]
  },
  {
   "cell_type": "code",
   "execution_count": 12,
   "metadata": {},
   "outputs": [],
   "source": [
    "#list 2 Variance\n",
    "import numpy as np\n",
    "weight = [74,47,54,30,59,65,69,57,55,78,60,80,58,50,50,50,49,70,62,55,55,60,45,70,55,67,67,64,50,65]\n",
    "weight_array = [74,47,54,30,59,65,69,57,55,78,60,80,58,50,50,50,49,70,62,55,55,60,45,70,55,67,67,64,50,65]\n",
    "weight_array = np.var(weight_array)"
   ]
  },
  {
   "cell_type": "code",
   "execution_count": 16,
   "metadata": {},
   "outputs": [],
   "source": [
    "#Mean list 2\n",
    "weight = [74,47,54,30,59,65,69,57,55,78,60,80,58,50,50,50,49,70,62,55,55,60,45,70,55,67,67,64,50,65]\n",
    "weight_array = [74,47,54,30,59,65,69,57,55,78,60,80,58,50,50,50,49,70,62,55,55,60,45,70,55,67,67,64,50,65]\n",
    "weight_array = np.mean(weight_array)"
   ]
  },
  {
   "cell_type": "code",
   "execution_count": null,
   "metadata": {},
   "outputs": [],
   "source": [
    "#Standard list 2\n",
    "weight = [74,47,54,30,59,65,69,57,55,78,60,80,58,50,50,50,49,70,62,55,55,60,45,70,55,67,67,64,50,65]\n",
    "weigth_array = [74,47,54,30,59,65,69,57,55,78,60,80,58,50,50,50,49,70,62,55,55,60,45,70,55,67,67,64,50,65]\n",
    "weight_array"
   ]
  }
 ],
 "metadata": {
  "kernelspec": {
   "display_name": "Python 3",
   "language": "python",
   "name": "python3"
  },
  "language_info": {
   "codemirror_mode": {
    "name": "ipython",
    "version": 3
   },
   "file_extension": ".py",
   "mimetype": "text/x-python",
   "name": "python",
   "nbconvert_exporter": "python",
   "pygments_lexer": "ipython3",
   "version": "3.11.4"
  },
  "orig_nbformat": 4
 },
 "nbformat": 4,
 "nbformat_minor": 2
}

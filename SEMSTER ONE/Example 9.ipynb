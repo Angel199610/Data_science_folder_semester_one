{
 "cells": [
  {
   "cell_type": "code",
   "execution_count": 17,
   "metadata": {},
   "outputs": [],
   "source": [
    "import pandas as pd\n"
   ]
  },
  {
   "cell_type": "code",
   "execution_count": 18,
   "metadata": {},
   "outputs": [
    {
     "name": "stdout",
     "output_type": "stream",
     "text": [
      "     S/N             student_names  Age Weight   Height\n",
      "0    1.0            Adokorac Nancy   20     74    177.8\n",
      "1    2.0   Amutuhaire Faith Ahabwe   27     47   157.48\n",
      "2    3.0     KWAGALA JOANNA VICTOR   21     54   185.42\n",
      "3    4.0              mahoro cathy   23     30   185.42\n",
      "4    5.0  Mbabazi Hawa Bint Edrisa   19     59   175.26\n",
      "5    6.0       Nakanjako josephine   24     65   175.26\n",
      "6    7.0            Nanteza Dorcus   21     69   157.48\n",
      "7    8.0             Mbabazi Angel   19     57   167.64\n",
      "8    9.0            Namara Racheal   19     55   154.94\n",
      "9   10.0       Lwamulungi Sheillah   22     78   162.56\n",
      "10   NaN           Nakawuka Sandra   25     60   175.26\n",
      "11   NaN   Achola Gloria Fortunate   27     80   172.72\n",
      "12   NaN             Nagawa Esther   21     58   188.42\n",
      "13   NaN           wanjiku hananny   19     50    165.1\n",
      "14   NaN            babirye Sandra   21     50   175.26\n",
      "15   NaN          nakagga shanitah   21     50   175.26\n",
      "16   NaN    Wembabazi Vivian Ritah   20     49   160.02\n",
      "17   NaN   Nanziri Ritah Namayanja   23     70   162.56\n",
      "18   NaN            Nasejje Mariam   20     62    101.6\n",
      "19   NaN  Namukose Jolline Edriana   20     55   162.56\n",
      "20   NaN      Agatha Faith Anyango   27     55    93.98\n",
      "21   NaN              Kirabo Sarah   23     60    165.1\n",
      "22   NaN          Nansalire Anitah   21     45     63.5\n",
      "23   NaN             Nalugo gladys   19     70    101.6\n",
      "24   NaN            Namakula Allen   20     55   170.18\n",
      "25   NaN           Tukahirwa emily   22     67   175.26\n",
      "26   NaN            Shamirah Ahmed   21     67   137.16\n",
      "27   NaN          Ameso lmmaculate   23     64    165.1\n",
      "28   NaN                Ayoo Teddy   20     50   157.48\n",
      "29   NaN                Biira Mary   30     65   104.14\n",
      "30   NaN        Aloyo Brenda Ojera   23     52   170.18\n",
      "31   NaN        Ayebale Immaculate   24     50   162.56\n"
     ]
    }
   ],
   "source": [
    "df = pd.read_excel(r\"Data/Angel.xlsx\")\n",
    "print(df)"
   ]
  },
  {
   "cell_type": "code",
   "execution_count": 19,
   "metadata": {},
   "outputs": [],
   "source": [
    "import pandas as pd\n"
   ]
  },
  {
   "cell_type": "code",
   "execution_count": 20,
   "metadata": {},
   "outputs": [],
   "source": [
    "df = pd.read_excel(r\"c:\\Users\\Student\\Desktop\\Angel.xlsx\")"
   ]
  },
  {
   "cell_type": "code",
   "execution_count": 21,
   "metadata": {},
   "outputs": [
    {
     "name": "stdout",
     "output_type": "stream",
     "text": [
      "     S/N             student_names  Age Weight   Height\n",
      "0    1.0            Adokorac Nancy   20     74    177.8\n",
      "1    2.0   Amutuhaire Faith Ahabwe   27     47   157.48\n",
      "2    3.0     KWAGALA JOANNA VICTOR   21     54   185.42\n",
      "3    4.0              mahoro cathy   23     30   185.42\n",
      "4    5.0  Mbabazi Hawa Bint Edrisa   19     59   175.26\n",
      "5    6.0       Nakanjako josephine   24     65   175.26\n",
      "6    7.0            Nanteza Dorcus   21     69   157.48\n",
      "7    8.0             Mbabazi Angel   19     57   167.64\n",
      "8    9.0            Namara Racheal   19     55   154.94\n",
      "9   10.0       Lwamulungi Sheillah   22     78   162.56\n",
      "10   NaN           Nakawuka Sandra   25     60   175.26\n",
      "11   NaN   Achola Gloria Fortunate   27     80   172.72\n",
      "12   NaN             Nagawa Esther   21     58   188.42\n",
      "13   NaN           wanjiku hananny   19     50    165.1\n",
      "14   NaN            babirye Sandra   21     50   175.26\n",
      "15   NaN          nakagga shanitah   21     50   175.26\n",
      "16   NaN    Wembabazi Vivian Ritah   20     49   160.02\n",
      "17   NaN   Nanziri Ritah Namayanja   23     70   162.56\n",
      "18   NaN            Nasejje Mariam   20     62    101.6\n",
      "19   NaN  Namukose Jolline Edriana   20     55   162.56\n",
      "20   NaN      Agatha Faith Anyango   27     55    93.98\n",
      "21   NaN              Kirabo Sarah   23     60    165.1\n",
      "22   NaN          Nansalire Anitah   21     45     63.5\n",
      "23   NaN             Nalugo gladys   19     70    101.6\n",
      "24   NaN            Namakula Allen   20     55   170.18\n",
      "25   NaN           Tukahirwa emily   22     67   175.26\n",
      "26   NaN            Shamirah Ahmed   21     67   137.16\n",
      "27   NaN          Ameso lmmaculate   23     64    165.1\n",
      "28   NaN                Ayoo Teddy   20     50   157.48\n",
      "29   NaN                Biira Mary   30     65   104.14\n",
      "30   NaN        Aloyo Brenda Ojera   23     52   170.18\n",
      "31   NaN        Ayebale Immaculate   24     50   162.56\n"
     ]
    }
   ],
   "source": [
    "print(df)"
   ]
  },
  {
   "cell_type": "code",
   "execution_count": 22,
   "metadata": {},
   "outputs": [
    {
     "data": {
      "text/plain": [
       "0     20\n",
       "1     27\n",
       "2     21\n",
       "3     23\n",
       "4     19\n",
       "5     24\n",
       "6     21\n",
       "7     19\n",
       "8     19\n",
       "9     22\n",
       "10    25\n",
       "11    27\n",
       "12    21\n",
       "13    19\n",
       "14    21\n",
       "15    21\n",
       "16    20\n",
       "17    23\n",
       "18    20\n",
       "19    20\n",
       "20    27\n",
       "21    23\n",
       "22    21\n",
       "23    19\n",
       "24    20\n",
       "25    22\n",
       "26    21\n",
       "27    23\n",
       "28    20\n",
       "29    30\n",
       "30    23\n",
       "31    24\n",
       "Name: Age, dtype: int64"
      ]
     },
     "execution_count": 22,
     "metadata": {},
     "output_type": "execute_result"
    }
   ],
   "source": [
    "df.Age"
   ]
  },
  {
   "cell_type": "code",
   "execution_count": 23,
   "metadata": {},
   "outputs": [
    {
     "name": "stdout",
     "output_type": "stream",
     "text": [
      "Age    22.03125\n",
      "dtype: float64\n"
     ]
    }
   ],
   "source": [
    "df = pd.DataFrame(df.Age)\n",
    "\n",
    "print(df.mean())"
   ]
  },
  {
   "cell_type": "code",
   "execution_count": 26,
   "metadata": {},
   "outputs": [],
   "source": [
    "import pandas as pd"
   ]
  },
  {
   "cell_type": "code",
   "execution_count": 28,
   "metadata": {},
   "outputs": [
    {
     "ename": "AttributeError",
     "evalue": "'DataFrame' object has no attribute 'Height'",
     "output_type": "error",
     "traceback": [
      "\u001b[1;31m---------------------------------------------------------------------------\u001b[0m",
      "\u001b[1;31mAttributeError\u001b[0m                            Traceback (most recent call last)",
      "\u001b[1;32m~\\AppData\\Local\\Temp\\ipykernel_6608\\689238630.py\u001b[0m in \u001b[0;36m?\u001b[1;34m()\u001b[0m\n\u001b[1;32m----> 1\u001b[1;33m \u001b[0mdf\u001b[0m\u001b[1;33m.\u001b[0m\u001b[0mHeight\u001b[0m\u001b[1;33m\u001b[0m\u001b[1;33m\u001b[0m\u001b[0m\n\u001b[0m",
      "\u001b[1;32mc:\\Users\\Student\\AppData\\Local\\Programs\\Python\\Python311\\Lib\\site-packages\\pandas\\core\\generic.py\u001b[0m in \u001b[0;36m?\u001b[1;34m(self, name)\u001b[0m\n\u001b[0;32m   6198\u001b[0m             \u001b[1;32mand\u001b[0m \u001b[0mname\u001b[0m \u001b[1;32mnot\u001b[0m \u001b[1;32min\u001b[0m \u001b[0mself\u001b[0m\u001b[1;33m.\u001b[0m\u001b[0m_accessors\u001b[0m\u001b[1;33m\u001b[0m\u001b[1;33m\u001b[0m\u001b[0m\n\u001b[0;32m   6199\u001b[0m             \u001b[1;32mand\u001b[0m \u001b[0mself\u001b[0m\u001b[1;33m.\u001b[0m\u001b[0m_info_axis\u001b[0m\u001b[1;33m.\u001b[0m\u001b[0m_can_hold_identifiers_and_holds_name\u001b[0m\u001b[1;33m(\u001b[0m\u001b[0mname\u001b[0m\u001b[1;33m)\u001b[0m\u001b[1;33m\u001b[0m\u001b[1;33m\u001b[0m\u001b[0m\n\u001b[0;32m   6200\u001b[0m         ):\n\u001b[0;32m   6201\u001b[0m             \u001b[1;32mreturn\u001b[0m \u001b[0mself\u001b[0m\u001b[1;33m[\u001b[0m\u001b[0mname\u001b[0m\u001b[1;33m]\u001b[0m\u001b[1;33m\u001b[0m\u001b[1;33m\u001b[0m\u001b[0m\n\u001b[1;32m-> 6202\u001b[1;33m         \u001b[1;32mreturn\u001b[0m \u001b[0mobject\u001b[0m\u001b[1;33m.\u001b[0m\u001b[0m__getattribute__\u001b[0m\u001b[1;33m(\u001b[0m\u001b[0mself\u001b[0m\u001b[1;33m,\u001b[0m \u001b[0mname\u001b[0m\u001b[1;33m)\u001b[0m\u001b[1;33m\u001b[0m\u001b[1;33m\u001b[0m\u001b[0m\n\u001b[0m",
      "\u001b[1;31mAttributeError\u001b[0m: 'DataFrame' object has no attribute 'Height'"
     ]
    }
   ],
   "source": [
    "df.Height"
   ]
  },
  {
   "cell_type": "code",
   "execution_count": null,
   "metadata": {},
   "outputs": [],
   "source": []
  }
 ],
 "metadata": {
  "kernelspec": {
   "display_name": "Python 3",
   "language": "python",
   "name": "python3"
  },
  "language_info": {
   "codemirror_mode": {
    "name": "ipython",
    "version": 3
   },
   "file_extension": ".py",
   "mimetype": "text/x-python",
   "name": "python",
   "nbconvert_exporter": "python",
   "pygments_lexer": "ipython3",
   "version": "3.11.4"
  }
 },
 "nbformat": 4,
 "nbformat_minor": 2
}

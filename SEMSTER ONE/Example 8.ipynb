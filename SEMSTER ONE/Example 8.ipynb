{
 "cells": [
  {
   "cell_type": "markdown",
   "metadata": {},
   "source": [
    "Value count"
   ]
  },
  {
   "cell_type": "code",
   "execution_count": 19,
   "metadata": {},
   "outputs": [
    {
     "name": "stdout",
     "output_type": "stream",
     "text": [
      "     S/N             student_names  Age Weight   Height\n",
      "0    1.0            Adokorac Nancy   20     74    177.8\n",
      "1    2.0   Amutuhaire Faith Ahabwe   27     47   157.48\n",
      "2    3.0     KWAGALA JOANNA VICTOR   21     54   185.42\n",
      "3    4.0              mahoro cathy   23     30   185.42\n",
      "4    5.0  Mbabazi Hawa Bint Edrisa   19     59   175.26\n",
      "5    6.0       Nakanjako josephine   24     65   175.26\n",
      "6    7.0            Nanteza Dorcus   21     69   157.48\n",
      "7    8.0             Mbabazi Angel   19     57   167.64\n",
      "8    9.0            Namara Racheal   19     55   154.94\n",
      "9   10.0       Lwamulungi Sheillah   22     78   162.56\n",
      "10   NaN           Nakawuka Sandra   25     60   175.26\n",
      "11   NaN   Achola Gloria Fortunate   27     80   172.72\n",
      "12   NaN             Nagawa Esther   21     58   188.42\n",
      "13   NaN           wanjiku hananny   19     50    165.1\n",
      "14   NaN            babirye Sandra   21     50   175.26\n",
      "15   NaN          nakagga shanitah   21     50   175.26\n",
      "16   NaN    Wembabazi Vivian Ritah   20     49   160.02\n",
      "17   NaN   Nanziri Ritah Namayanja   23     70   162.56\n",
      "18   NaN            Nasejje Mariam   20     62    101.6\n",
      "19   NaN  Namukose Jolline Edriana   20     55   162.56\n",
      "20   NaN      Agatha Faith Anyango   27     55    93.98\n",
      "21   NaN              Kirabo Sarah   23     60    165.1\n",
      "22   NaN          Nansalire Anitah   21     45     63.5\n",
      "23   NaN             Nalugo gladys   19     70    101.6\n",
      "24   NaN            Namakula Allen   20     55   170.18\n",
      "25   NaN           Tukahirwa emily   22     67   175.26\n",
      "26   NaN            Shamirah Ahmed   21     67   137.16\n",
      "27   NaN          Ameso lmmaculate   23     64    165.1\n",
      "28   NaN                Ayoo Teddy   20     50   157.48\n",
      "29   NaN                Biira Mary   30     65   104.14\n",
      "30   NaN        Aloyo Brenda Ojera   23     52   170.18\n",
      "31   NaN        Ayebale Immaculate   24     50   162.56\n"
     ]
    }
   ],
   "source": [
    "import pandas as pd\n",
    "df = pd.read_excel(r\"c:\\Users\\Student\\Desktop\\ANGEL WITI COHORT 3\\DATA SCIENCE AND MACHINE LEARNING\\YEAR ONE\\SEMSTER ONE\\Notebooks\\dataset.xlsx\")\n",
    "print(df)"
   ]
  },
  {
   "cell_type": "code",
   "execution_count": 26,
   "metadata": {},
   "outputs": [
    {
     "data": {
      "text/plain": [
       "0       177.8\n",
       "1      157.48\n",
       "2      185.42\n",
       "3      185.42\n",
       "4      175.26\n",
       "5      175.26\n",
       "6      157.48\n",
       "7      167.64\n",
       "8      154.94\n",
       "9      162.56\n",
       "10     175.26\n",
       "11     172.72\n",
       "12     188.42\n",
       "13      165.1\n",
       "14     175.26\n",
       "15     175.26\n",
       "16     160.02\n",
       "17     162.56\n",
       "18      101.6\n",
       "19     162.56\n",
       "20      93.98\n",
       "21      165.1\n",
       "22       63.5\n",
       "23      101.6\n",
       "24     170.18\n",
       "25     175.26\n",
       "26     137.16\n",
       "27      165.1\n",
       "28     157.48\n",
       "29     104.14\n",
       "30     170.18\n",
       "31     162.56\n",
       "Name: Height, dtype: object"
      ]
     },
     "execution_count": 26,
     "metadata": {},
     "output_type": "execute_result"
    }
   ],
   "source": [
    "df.Height\n"
   ]
  },
  {
   "cell_type": "code",
   "execution_count": 21,
   "metadata": {},
   "outputs": [
    {
     "data": {
      "text/plain": [
       " 175.26    6\n",
       " 165.1     3\n",
       " 162.56    3\n",
       " 157.48    3\n",
       " 185.42    2\n",
       " 101.6     2\n",
       " 93.98     1\n",
       "170.18     1\n",
       " 104.14    1\n",
       " 137.16    1\n",
       " 170.18    1\n",
       " 63.5      1\n",
       " 177.8     1\n",
       " 160.02    1\n",
       " 188.42    1\n",
       " 172.72    1\n",
       " 154.94    1\n",
       " 167.64    1\n",
       "162.56     1\n",
       "Name: Height, dtype: int64"
      ]
     },
     "execution_count": 21,
     "metadata": {},
     "output_type": "execute_result"
    }
   ],
   "source": [
    "df.Height.value_counts()"
   ]
  },
  {
   "cell_type": "markdown",
   "metadata": {},
   "source": [
    "How to describe the variable \n",
    "Data frame helps you achieve something effortly without calling for it."
   ]
  },
  {
   "cell_type": "code",
   "execution_count": 23,
   "metadata": {},
   "outputs": [
    {
     "data": {
      "text/plain": [
       "<bound method NDFrame.describe of  175.26    6\n",
       " 165.1     3\n",
       " 162.56    3\n",
       " 157.48    3\n",
       " 185.42    2\n",
       " 101.6     2\n",
       " 93.98     1\n",
       "170.18     1\n",
       " 104.14    1\n",
       " 137.16    1\n",
       " 170.18    1\n",
       " 63.5      1\n",
       " 177.8     1\n",
       " 160.02    1\n",
       " 188.42    1\n",
       " 172.72    1\n",
       " 154.94    1\n",
       " 167.64    1\n",
       "162.56     1\n",
       "Name: Height, dtype: int64>"
      ]
     },
     "execution_count": 23,
     "metadata": {},
     "output_type": "execute_result"
    }
   ],
   "source": [
    "df.Height.value_counts().describe #"
   ]
  },
  {
   "cell_type": "markdown",
   "metadata": {},
   "source": [
    "Matplot libray\n",
    "Its a combination of three word (Matrice, plotting and library)\n",
    "It is got from a module py plot (matplotlib.pyplot)\n"
   ]
  },
  {
   "cell_type": "code",
   "execution_count": 24,
   "metadata": {},
   "outputs": [],
   "source": [
    "import matplotlib as plt"
   ]
  },
  {
   "cell_type": "code",
   "execution_count": 29,
   "metadata": {},
   "outputs": [
    {
     "data": {
      "text/plain": [
       "0     20\n",
       "1     27\n",
       "2     21\n",
       "3     23\n",
       "4     19\n",
       "5     24\n",
       "6     21\n",
       "7     19\n",
       "8     19\n",
       "9     22\n",
       "10    25\n",
       "11    27\n",
       "12    21\n",
       "13    19\n",
       "14    21\n",
       "15    21\n",
       "16    20\n",
       "17    23\n",
       "18    20\n",
       "19    20\n",
       "20    27\n",
       "21    23\n",
       "22    21\n",
       "23    19\n",
       "24    20\n",
       "25    22\n",
       "26    21\n",
       "27    23\n",
       "28    20\n",
       "29    30\n",
       "30    23\n",
       "31    24\n",
       "Name: Age, dtype: int64"
      ]
     },
     "execution_count": 29,
     "metadata": {},
     "output_type": "execute_result"
    }
   ],
   "source": [
    "df.Age "
   ]
  },
  {
   "cell_type": "code",
   "execution_count": 32,
   "metadata": {},
   "outputs": [
    {
     "data": {
      "text/plain": [
       "<Axes: >"
      ]
     },
     "execution_count": 32,
     "metadata": {},
     "output_type": "execute_result"
    },
    {
     "data": {
      "image/png": "[encoded data removed]",
      "text/plain": [
       "<Figure size 640x480 with 1 Axes>"
      ]
     },
     "metadata": {},
     "output_type": "display_data"
    }
   ],
   "source": [
    "df.Age.hist(bins=10)"
   ]
  }
 ],
 "metadata": {
  "kernelspec": {
   "display_name": "base",
   "language": "python",
   "name": "python3"
  },
  "language_info": {
   "codemirror_mode": {
    "name": "ipython",
    "version": 3
   },
   "file_extension": ".py",
   "mimetype": "text/x-python",
   "name": "python",
   "nbconvert_exporter": "python",
   "pygments_lexer": "ipython3",
   "version": "3.11.4"
  },
  "orig_nbformat": 4
 },
 "nbformat": 4,
 "nbformat_minor": 2
}

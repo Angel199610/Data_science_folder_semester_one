{
 "cells": [
  {
   "cell_type": "markdown",
   "metadata": {},
   "source": [
    "LINEAR REGRESSION"
   ]
  },
  {
   "cell_type": "code",
   "execution_count": 83,
   "metadata": {},
   "outputs": [],
   "source": [
    "import scipy.stats"
   ]
  },
  {
   "cell_type": "code",
   "execution_count": 84,
   "metadata": {},
   "outputs": [],
   "source": [
    "from scipy.stats import linregress"
   ]
  },
  {
   "cell_type": "code",
   "execution_count": 85,
   "metadata": {},
   "outputs": [],
   "source": [
    "import statsmodels.formula.api as smf"
   ]
  },
  {
   "cell_type": "code",
   "execution_count": 86,
   "metadata": {},
   "outputs": [],
   "source": [
    "import pandas as pd"
   ]
  },
  {
   "cell_type": "code",
   "execution_count": 87,
   "metadata": {},
   "outputs": [],
   "source": [
    "df = pd.read_excel(r\"c:\\Users\\Student\\Desktop\\ANGEL WITI COHORT 3\\DATA SCIENCE AND MACHINE LEARNING\\YEAR ONE\\SEMSTER ONE\\Notebooks\\dataset (1).xlsx\")"
   ]
  },
  {
   "cell_type": "code",
   "execution_count": 88,
   "metadata": {},
   "outputs": [
    {
     "name": "stdout",
     "output_type": "stream",
     "text": [
      "    S/N                      Name  Age  Weight  HEIGHT\n",
      "0     1            Adokorac Nancy   20      70  177.80\n",
      "1     2   Amutuhaire Faith Ahabwe   27      47  157.48\n",
      "2     3     KWAGALA JOANNA VICTOR   21      54  185.42\n",
      "3     4              mahoro cathy   23      30     NaN\n",
      "4     5  Mbabazi Hawa Bint Edrisa   19      59  175.26\n",
      "5     6       Nakanjako josephine   24      65  175.26\n",
      "6     7            Nanteza Dorcus   21      69  157.48\n",
      "7     8             Mbabazi Angel   19      57  167.64\n",
      "8     9            Namara Racheal   19      55  154.94\n",
      "9    10       Lwamulungi Sheillah   22      78  162.56\n",
      "10   11           Nakawuka Sandra   25      60  175.26\n",
      "11   12   Achola Gloria Fortunate   27      80  172.72\n",
      "12   13             Nagawa Esther   21      58  187.96\n",
      "13   14           wanjiku hananny   19      50  165.10\n",
      "14   15            babirye Sandra   21      50  175.26\n",
      "15   16          nakagga shanitah   21      50  175.26\n",
      "16   17    Wembabazi Vivian Ritah   20      49  160.02\n",
      "17   18   Nanziri Ritah Namayanja   23      70  162.56\n",
      "18   19            Nasejje Mariam   20      62  101.60\n",
      "19   20  Namukose Jolline Edriana   20      55  162.56\n",
      "20   21      Agatha Faith Anyango   27      55   93.98\n",
      "21   22              Kirabo Sarah   23      60  165.10\n",
      "22   23          Nansalire Anitah   21      45   63.50\n",
      "23   24             Nalugo gladys   19      70  101.60\n",
      "24   25            Namakula Allen   20      55  170.18\n",
      "25   26           Tukahirwa emily   22      67  175.26\n",
      "26   27            Shamirah Ahmed   21      67  137.16\n",
      "27   28          Ameso lmmaculate   23      64  165.10\n",
      "28   29                Ayoo Teddy   20      50  157.48\n",
      "29   30                Biira Mary   30      65  104.14\n",
      "30   31        Aloyo Brenda Ojera   23      52  170.18\n",
      "31   32        Ayebale Immaculate   24      50  162.56\n"
     ]
    }
   ],
   "source": [
    "print(df)"
   ]
  },
  {
   "cell_type": "code",
   "execution_count": 91,
   "metadata": {},
   "outputs": [],
   "source": [
    "columns = [\"Age\", \"Weight\", \"HEIGHT\"]"
   ]
  },
  {
   "cell_type": "code",
   "execution_count": 92,
   "metadata": {},
   "outputs": [],
   "source": [
    "df1 = df[columns]"
   ]
  },
  {
   "cell_type": "code",
   "execution_count": 93,
   "metadata": {},
   "outputs": [],
   "source": [
    "result = linregress(df[\"Weight\"], df[\"HEIGHT\"])"
   ]
  },
  {
   "cell_type": "code",
   "execution_count": 101,
   "metadata": {},
   "outputs": [],
   "source": [
    "result2 = linregress(df[\"Weight\"], df[\"Age\"])"
   ]
  },
  {
   "cell_type": "code",
   "execution_count": 102,
   "metadata": {},
   "outputs": [
    {
     "data": {
      "text/plain": [
       "LinregressResult(slope=0.033044461190655613, intercept=20.10227957799548, rvalue=0.12363988765540367, pvalue=0.5001968340375678, stderr=0.04842106314779205, intercept_stderr=2.8692544375651803)"
      ]
     },
     "execution_count": 102,
     "metadata": {},
     "output_type": "execute_result"
    }
   ],
   "source": [
    "result2"
   ]
  },
  {
   "cell_type": "code",
   "execution_count": 94,
   "metadata": {},
   "outputs": [
    {
     "data": {
      "text/plain": [
       "LinregressResult(slope=nan, intercept=nan, rvalue=nan, pvalue=nan, stderr=nan, intercept_stderr=nan)"
      ]
     },
     "execution_count": 94,
     "metadata": {},
     "output_type": "execute_result"
    }
   ],
   "source": [
    "result"
   ]
  },
  {
   "cell_type": "code",
   "execution_count": 95,
   "metadata": {},
   "outputs": [],
   "source": [
    "df2=df.dropna()"
   ]
  },
  {
   "cell_type": "code",
   "execution_count": 96,
   "metadata": {},
   "outputs": [
    {
     "data": {
      "text/html": [
       "<div>\n",
       "<style scoped>\n",
       "    .dataframe tbody tr th:only-of-type {\n",
       "        vertical-align: middle;\n",
       "    }\n",
       "\n",
       "    .dataframe tbody tr th {\n",
       "        vertical-align: top;\n",
       "    }\n",
       "\n",
       "    .dataframe thead th {\n",
       "        text-align: right;\n",
       "    }\n",
       "</style>\n",
       "<table border=\"1\" class=\"dataframe\">\n",
       "  <thead>\n",
       "    <tr style=\"text-align: right;\">\n",
       "      <th></th>\n",
       "      <th>S/N</th>\n",
       "      <th>Name</th>\n",
       "      <th>Age</th>\n",
       "      <th>Weight</th>\n",
       "      <th>HEIGHT</th>\n",
       "    </tr>\n",
       "  </thead>\n",
       "  <tbody>\n",
       "    <tr>\n",
       "      <th>0</th>\n",
       "      <td>1</td>\n",
       "      <td>Adokorac Nancy</td>\n",
       "      <td>20</td>\n",
       "      <td>70</td>\n",
       "      <td>177.80</td>\n",
       "    </tr>\n",
       "    <tr>\n",
       "      <th>1</th>\n",
       "      <td>2</td>\n",
       "      <td>Amutuhaire Faith Ahabwe</td>\n",
       "      <td>27</td>\n",
       "      <td>47</td>\n",
       "      <td>157.48</td>\n",
       "    </tr>\n",
       "    <tr>\n",
       "      <th>2</th>\n",
       "      <td>3</td>\n",
       "      <td>KWAGALA JOANNA VICTOR</td>\n",
       "      <td>21</td>\n",
       "      <td>54</td>\n",
       "      <td>185.42</td>\n",
       "    </tr>\n",
       "    <tr>\n",
       "      <th>4</th>\n",
       "      <td>5</td>\n",
       "      <td>Mbabazi Hawa Bint Edrisa</td>\n",
       "      <td>19</td>\n",
       "      <td>59</td>\n",
       "      <td>175.26</td>\n",
       "    </tr>\n",
       "    <tr>\n",
       "      <th>5</th>\n",
       "      <td>6</td>\n",
       "      <td>Nakanjako josephine</td>\n",
       "      <td>24</td>\n",
       "      <td>65</td>\n",
       "      <td>175.26</td>\n",
       "    </tr>\n",
       "    <tr>\n",
       "      <th>6</th>\n",
       "      <td>7</td>\n",
       "      <td>Nanteza Dorcus</td>\n",
       "      <td>21</td>\n",
       "      <td>69</td>\n",
       "      <td>157.48</td>\n",
       "    </tr>\n",
       "    <tr>\n",
       "      <th>7</th>\n",
       "      <td>8</td>\n",
       "      <td>Mbabazi Angel</td>\n",
       "      <td>19</td>\n",
       "      <td>57</td>\n",
       "      <td>167.64</td>\n",
       "    </tr>\n",
       "    <tr>\n",
       "      <th>8</th>\n",
       "      <td>9</td>\n",
       "      <td>Namara Racheal</td>\n",
       "      <td>19</td>\n",
       "      <td>55</td>\n",
       "      <td>154.94</td>\n",
       "    </tr>\n",
       "    <tr>\n",
       "      <th>9</th>\n",
       "      <td>10</td>\n",
       "      <td>Lwamulungi Sheillah</td>\n",
       "      <td>22</td>\n",
       "      <td>78</td>\n",
       "      <td>162.56</td>\n",
       "    </tr>\n",
       "    <tr>\n",
       "      <th>10</th>\n",
       "      <td>11</td>\n",
       "      <td>Nakawuka Sandra</td>\n",
       "      <td>25</td>\n",
       "      <td>60</td>\n",
       "      <td>175.26</td>\n",
       "    </tr>\n",
       "    <tr>\n",
       "      <th>11</th>\n",
       "      <td>12</td>\n",
       "      <td>Achola Gloria Fortunate</td>\n",
       "      <td>27</td>\n",
       "      <td>80</td>\n",
       "      <td>172.72</td>\n",
       "    </tr>\n",
       "    <tr>\n",
       "      <th>12</th>\n",
       "      <td>13</td>\n",
       "      <td>Nagawa Esther</td>\n",
       "      <td>21</td>\n",
       "      <td>58</td>\n",
       "      <td>187.96</td>\n",
       "    </tr>\n",
       "    <tr>\n",
       "      <th>13</th>\n",
       "      <td>14</td>\n",
       "      <td>wanjiku hananny</td>\n",
       "      <td>19</td>\n",
       "      <td>50</td>\n",
       "      <td>165.10</td>\n",
       "    </tr>\n",
       "    <tr>\n",
       "      <th>14</th>\n",
       "      <td>15</td>\n",
       "      <td>babirye Sandra</td>\n",
       "      <td>21</td>\n",
       "      <td>50</td>\n",
       "      <td>175.26</td>\n",
       "    </tr>\n",
       "    <tr>\n",
       "      <th>15</th>\n",
       "      <td>16</td>\n",
       "      <td>nakagga shanitah</td>\n",
       "      <td>21</td>\n",
       "      <td>50</td>\n",
       "      <td>175.26</td>\n",
       "    </tr>\n",
       "    <tr>\n",
       "      <th>16</th>\n",
       "      <td>17</td>\n",
       "      <td>Wembabazi Vivian Ritah</td>\n",
       "      <td>20</td>\n",
       "      <td>49</td>\n",
       "      <td>160.02</td>\n",
       "    </tr>\n",
       "    <tr>\n",
       "      <th>17</th>\n",
       "      <td>18</td>\n",
       "      <td>Nanziri Ritah Namayanja</td>\n",
       "      <td>23</td>\n",
       "      <td>70</td>\n",
       "      <td>162.56</td>\n",
       "    </tr>\n",
       "    <tr>\n",
       "      <th>18</th>\n",
       "      <td>19</td>\n",
       "      <td>Nasejje Mariam</td>\n",
       "      <td>20</td>\n",
       "      <td>62</td>\n",
       "      <td>101.60</td>\n",
       "    </tr>\n",
       "    <tr>\n",
       "      <th>19</th>\n",
       "      <td>20</td>\n",
       "      <td>Namukose Jolline Edriana</td>\n",
       "      <td>20</td>\n",
       "      <td>55</td>\n",
       "      <td>162.56</td>\n",
       "    </tr>\n",
       "    <tr>\n",
       "      <th>20</th>\n",
       "      <td>21</td>\n",
       "      <td>Agatha Faith Anyango</td>\n",
       "      <td>27</td>\n",
       "      <td>55</td>\n",
       "      <td>93.98</td>\n",
       "    </tr>\n",
       "    <tr>\n",
       "      <th>21</th>\n",
       "      <td>22</td>\n",
       "      <td>Kirabo Sarah</td>\n",
       "      <td>23</td>\n",
       "      <td>60</td>\n",
       "      <td>165.10</td>\n",
       "    </tr>\n",
       "    <tr>\n",
       "      <th>22</th>\n",
       "      <td>23</td>\n",
       "      <td>Nansalire Anitah</td>\n",
       "      <td>21</td>\n",
       "      <td>45</td>\n",
       "      <td>63.50</td>\n",
       "    </tr>\n",
       "    <tr>\n",
       "      <th>23</th>\n",
       "      <td>24</td>\n",
       "      <td>Nalugo gladys</td>\n",
       "      <td>19</td>\n",
       "      <td>70</td>\n",
       "      <td>101.60</td>\n",
       "    </tr>\n",
       "    <tr>\n",
       "      <th>24</th>\n",
       "      <td>25</td>\n",
       "      <td>Namakula Allen</td>\n",
       "      <td>20</td>\n",
       "      <td>55</td>\n",
       "      <td>170.18</td>\n",
       "    </tr>\n",
       "    <tr>\n",
       "      <th>25</th>\n",
       "      <td>26</td>\n",
       "      <td>Tukahirwa emily</td>\n",
       "      <td>22</td>\n",
       "      <td>67</td>\n",
       "      <td>175.26</td>\n",
       "    </tr>\n",
       "    <tr>\n",
       "      <th>26</th>\n",
       "      <td>27</td>\n",
       "      <td>Shamirah Ahmed</td>\n",
       "      <td>21</td>\n",
       "      <td>67</td>\n",
       "      <td>137.16</td>\n",
       "    </tr>\n",
       "    <tr>\n",
       "      <th>27</th>\n",
       "      <td>28</td>\n",
       "      <td>Ameso lmmaculate</td>\n",
       "      <td>23</td>\n",
       "      <td>64</td>\n",
       "      <td>165.10</td>\n",
       "    </tr>\n",
       "    <tr>\n",
       "      <th>28</th>\n",
       "      <td>29</td>\n",
       "      <td>Ayoo Teddy</td>\n",
       "      <td>20</td>\n",
       "      <td>50</td>\n",
       "      <td>157.48</td>\n",
       "    </tr>\n",
       "    <tr>\n",
       "      <th>29</th>\n",
       "      <td>30</td>\n",
       "      <td>Biira Mary</td>\n",
       "      <td>30</td>\n",
       "      <td>65</td>\n",
       "      <td>104.14</td>\n",
       "    </tr>\n",
       "    <tr>\n",
       "      <th>30</th>\n",
       "      <td>31</td>\n",
       "      <td>Aloyo Brenda Ojera</td>\n",
       "      <td>23</td>\n",
       "      <td>52</td>\n",
       "      <td>170.18</td>\n",
       "    </tr>\n",
       "    <tr>\n",
       "      <th>31</th>\n",
       "      <td>32</td>\n",
       "      <td>Ayebale Immaculate</td>\n",
       "      <td>24</td>\n",
       "      <td>50</td>\n",
       "      <td>162.56</td>\n",
       "    </tr>\n",
       "  </tbody>\n",
       "</table>\n",
       "</div>"
      ],
      "text/plain": [
       "    S/N                      Name  Age  Weight  HEIGHT\n",
       "0     1            Adokorac Nancy   20      70  177.80\n",
       "1     2   Amutuhaire Faith Ahabwe   27      47  157.48\n",
       "2     3     KWAGALA JOANNA VICTOR   21      54  185.42\n",
       "4     5  Mbabazi Hawa Bint Edrisa   19      59  175.26\n",
       "5     6       Nakanjako josephine   24      65  175.26\n",
       "6     7            Nanteza Dorcus   21      69  157.48\n",
       "7     8             Mbabazi Angel   19      57  167.64\n",
       "8     9            Namara Racheal   19      55  154.94\n",
       "9    10       Lwamulungi Sheillah   22      78  162.56\n",
       "10   11           Nakawuka Sandra   25      60  175.26\n",
       "11   12   Achola Gloria Fortunate   27      80  172.72\n",
       "12   13             Nagawa Esther   21      58  187.96\n",
       "13   14           wanjiku hananny   19      50  165.10\n",
       "14   15            babirye Sandra   21      50  175.26\n",
       "15   16          nakagga shanitah   21      50  175.26\n",
       "16   17    Wembabazi Vivian Ritah   20      49  160.02\n",
       "17   18   Nanziri Ritah Namayanja   23      70  162.56\n",
       "18   19            Nasejje Mariam   20      62  101.60\n",
       "19   20  Namukose Jolline Edriana   20      55  162.56\n",
       "20   21      Agatha Faith Anyango   27      55   93.98\n",
       "21   22              Kirabo Sarah   23      60  165.10\n",
       "22   23          Nansalire Anitah   21      45   63.50\n",
       "23   24             Nalugo gladys   19      70  101.60\n",
       "24   25            Namakula Allen   20      55  170.18\n",
       "25   26           Tukahirwa emily   22      67  175.26\n",
       "26   27            Shamirah Ahmed   21      67  137.16\n",
       "27   28          Ameso lmmaculate   23      64  165.10\n",
       "28   29                Ayoo Teddy   20      50  157.48\n",
       "29   30                Biira Mary   30      65  104.14\n",
       "30   31        Aloyo Brenda Ojera   23      52  170.18\n",
       "31   32        Ayebale Immaculate   24      50  162.56"
      ]
     },
     "execution_count": 96,
     "metadata": {},
     "output_type": "execute_result"
    }
   ],
   "source": [
    "df2"
   ]
  },
  {
   "cell_type": "code",
   "execution_count": 97,
   "metadata": {},
   "outputs": [],
   "source": [
    "result = linregress(df2[\"Weight\"], df2[\"HEIGHT\"])"
   ]
  },
  {
   "cell_type": "code",
   "execution_count": 98,
   "metadata": {},
   "outputs": [
    {
     "data": {
      "text/plain": [
       "LinregressResult(slope=0.2137702068034979, intercept=142.75710838371523, rvalue=0.06462556268441193, pvalue=0.7297976235617512, stderr=0.6129640926648071, intercept_stderr=36.75509953547787)"
      ]
     },
     "execution_count": 98,
     "metadata": {},
     "output_type": "execute_result"
    }
   ],
   "source": [
    "result"
   ]
  },
  {
   "cell_type": "markdown",
   "metadata": {},
   "source": [
    "stderr means standard divation error. It works with samples\n",
    "\n",
    "\n",
    "rvalue is the coefficient of variation r2 value\n",
    "\n",
    "\n",
    "pvalue represents siginficant level "
   ]
  }
 ],
 "metadata": {
  "kernelspec": {
   "display_name": "Python 3",
   "language": "python",
   "name": "python3"
  },
  "language_info": {
   "codemirror_mode": {
    "name": "ipython",
    "version": 3
   },
   "file_extension": ".py",
   "mimetype": "text/x-python",
   "name": "python",
   "nbconvert_exporter": "python",
   "pygments_lexer": "ipython3",
   "version": "3.11.4"
  }
 },
 "nbformat": 4,
 "nbformat_minor": 2
}

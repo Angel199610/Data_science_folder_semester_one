{
 "cells": [
  {
   "cell_type": "code",
   "execution_count": 22,
   "metadata": {},
   "outputs": [],
   "source": [
    "import pandas as pd"
   ]
  },
  {
   "cell_type": "code",
   "execution_count": 23,
   "metadata": {},
   "outputs": [],
   "source": [
    "import numpy as np"
   ]
  },
  {
   "cell_type": "code",
   "execution_count": 24,
   "metadata": {},
   "outputs": [
    {
     "name": "stdout",
     "output_type": "stream",
     "text": [
      "          Full Name                 Job Title       Department  \\\n",
      "0       Emily Davis                Sr. Manger               IT   \n",
      "1     Theodore Dinh       Technical Architect               IT   \n",
      "2      Luna Sanders                  Director          Finance   \n",
      "3   Penelope Jordan  Computer Systems Manager               IT   \n",
      "4         Austin Vo               Sr. Analyst          Finance   \n",
      "5      Joshua Gupta    Account Representative            Sales   \n",
      "6       Ruby Barnes                   Manager               IT   \n",
      "7       Luke Martin                   Analyst          Finance   \n",
      "8     Easton Bailey                   Manager       Accounting   \n",
      "9   Madeline Walker               Sr. Analyst          Finance   \n",
      "10     Savannah Ali                Sr. Manger  Human Resources   \n",
      "11    Camila Rogers         Controls Engineer      Engineering   \n",
      "12        Eli Jones                   Manager  Human Resources   \n",
      "13     Everleigh Ng                Sr. Manger          Finance   \n",
      "14      Robert Yang               Sr. Analyst       Accounting   \n",
      "15      Isabella Xi            Vice President        Marketing   \n",
      "16     Bella Powell                  Director          Finance   \n",
      "17     Camila Silva                Sr. Manger        Marketing   \n",
      "18     David Barnes                  Director               IT   \n",
      "\n",
      "             Business Unit  Gender  Age  Annual Salary        Country  \\\n",
      "0   Research & Development  Female   55         141604  United States   \n",
      "1            Manufacturing    Male   59          99975          China   \n",
      "2      Speciality Products  Female   50         163099  United States   \n",
      "3            Manufacturing  Female   26          84913  United States   \n",
      "4            Manufacturing    Male   55          95409  United States   \n",
      "5                Corporate    Male   57          50994          China   \n",
      "6                Corporate  Female   27         119746  United States   \n",
      "7            Manufacturing    Male   25          41336  United States   \n",
      "8            Manufacturing    Male   29         113527  United States   \n",
      "9      Speciality Products  Female   34          77203  United States   \n",
      "10           Manufacturing  Female   36         157333  United States   \n",
      "11     Speciality Products  Female   27         109851  United States   \n",
      "12           Manufacturing    Male   59         105086  United States   \n",
      "13  Research & Development  Female   51         146742          China   \n",
      "14     Speciality Products    Male   31          97078  United States   \n",
      "15  Research & Development  Female   41         249270  United States   \n",
      "16  Research & Development  Female   65         175837  United States   \n",
      "17     Speciality Products  Female   64         154828  United States   \n",
      "18               Corporate    Male   64         186503  United States   \n",
      "\n",
      "         City  \n",
      "0     Seattle  \n",
      "1   Chongqing  \n",
      "2     Chicago  \n",
      "3     Chicago  \n",
      "4     Phoenix  \n",
      "5   Chongqing  \n",
      "6     Phoenix  \n",
      "7       Miami  \n",
      "8      Austin  \n",
      "9     Chicago  \n",
      "10      Miami  \n",
      "11    Seattle  \n",
      "12     Austin  \n",
      "13   Shanghai  \n",
      "14     Austin  \n",
      "15    Seattle  \n",
      "16    Phoenix  \n",
      "17    Seattle  \n",
      "18   Columbus  \n"
     ]
    }
   ],
   "source": [
    "df = pd.read_excel(r\"Data/Employee Sample Data (1) (1).xlsx\")\n",
    "print(df)"
   ]
  },
  {
   "cell_type": "code",
   "execution_count": 25,
   "metadata": {},
   "outputs": [
    {
     "data": {
      "text/plain": [
       "0     55\n",
       "1     59\n",
       "2     50\n",
       "3     26\n",
       "4     55\n",
       "5     57\n",
       "6     27\n",
       "7     25\n",
       "8     29\n",
       "9     34\n",
       "10    36\n",
       "11    27\n",
       "12    59\n",
       "13    51\n",
       "14    31\n",
       "15    41\n",
       "16    65\n",
       "17    64\n",
       "18    64\n",
       "Name: Age, dtype: int64"
      ]
     },
     "execution_count": 25,
     "metadata": {},
     "output_type": "execute_result"
    }
   ],
   "source": [
    "df.Age"
   ]
  },
  {
   "cell_type": "code",
   "execution_count": 26,
   "metadata": {},
   "outputs": [
    {
     "data": {
      "text/plain": [
       "<bound method NDFrame.describe of Age\n",
       "55    2\n",
       "59    2\n",
       "27    2\n",
       "64    2\n",
       "50    1\n",
       "26    1\n",
       "57    1\n",
       "25    1\n",
       "29    1\n",
       "34    1\n",
       "36    1\n",
       "51    1\n",
       "31    1\n",
       "41    1\n",
       "65    1\n",
       "Name: count, dtype: int64>"
      ]
     },
     "execution_count": 26,
     "metadata": {},
     "output_type": "execute_result"
    }
   ],
   "source": [
    "df.Age.value_counts().describe"
   ]
  },
  {
   "cell_type": "code",
   "execution_count": 27,
   "metadata": {},
   "outputs": [
    {
     "data": {
      "text/plain": [
       "0     Female\n",
       "1       Male\n",
       "2     Female\n",
       "3     Female\n",
       "4       Male\n",
       "5       Male\n",
       "6     Female\n",
       "7       Male\n",
       "8       Male\n",
       "9     Female\n",
       "10    Female\n",
       "11    Female\n",
       "12      Male\n",
       "13    Female\n",
       "14      Male\n",
       "15    Female\n",
       "16    Female\n",
       "17    Female\n",
       "18      Male\n",
       "Name: Gender, dtype: object"
      ]
     },
     "execution_count": 27,
     "metadata": {},
     "output_type": "execute_result"
    }
   ],
   "source": [
    "df.Gender"
   ]
  },
  {
   "cell_type": "code",
   "execution_count": 29,
   "metadata": {},
   "outputs": [
    {
     "data": {
      "text/plain": [
       "0                  IT\n",
       "1                  IT\n",
       "2             Finance\n",
       "3                  IT\n",
       "4             Finance\n",
       "5               Sales\n",
       "6                  IT\n",
       "7             Finance\n",
       "8          Accounting\n",
       "9             Finance\n",
       "10    Human Resources\n",
       "11        Engineering\n",
       "12    Human Resources\n",
       "13            Finance\n",
       "14         Accounting\n",
       "15          Marketing\n",
       "16            Finance\n",
       "17          Marketing\n",
       "18                 IT\n",
       "Name: Department, dtype: object"
      ]
     },
     "execution_count": 29,
     "metadata": {},
     "output_type": "execute_result"
    }
   ],
   "source": [
    "df.Department"
   ]
  },
  {
   "cell_type": "code",
   "execution_count": 30,
   "metadata": {},
   "outputs": [
    {
     "data": {
      "text/plain": [
       "<Axes: >"
      ]
     },
     "execution_count": 30,
     "metadata": {},
     "output_type": "execute_result"
    },
    {
     "data": {
      "image/png": "[encoded data removed]",
      "text/plain": [
       "<Figure size 640x480 with 1 Axes>"
      ]
     },
     "metadata": {},
     "output_type": "display_data"
    }
   ],
   "source": [
    "df.Age.hist(bins=20)"
   ]
  },
  {
   "cell_type": "code",
   "execution_count": null,
   "metadata": {},
   "outputs": [],
   "source": []
  }
 ],
 "metadata": {
  "kernelspec": {
   "display_name": "Python 3",
   "language": "python",
   "name": "python3"
  },
  "language_info": {
   "codemirror_mode": {
    "name": "ipython",
    "version": 3
   },
   "file_extension": ".py",
   "mimetype": "text/x-python",
   "name": "python",
   "nbconvert_exporter": "python",
   "pygments_lexer": "ipython3",
   "version": "3.11.4"
  }
 },
 "nbformat": 4,
 "nbformat_minor": 2
}
